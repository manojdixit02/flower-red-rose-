{
 "cells": [
  {
   "cell_type": "code",
   "execution_count": 1,
   "id": "3ef5d99b-e41c-454b-954e-4995cf7d835b",
   "metadata": {},
   "outputs": [],
   "source": [
    "from turtle import *\n",
    "tracer(30)\n",
    "setposition(-40,35)\n",
    "bgcolor(\"black\")\n",
    "hideturtle()\n",
    "for i in range(160):\n",
    "    for c in range(5):\n",
    "        color(\"red\")\n",
    "        fd(90)\n",
    "        circle(160-i,100)\n",
    "        left(90)\n",
    "        circle(160-i,100)\n",
    "        right(61)\n",
    "done()"
   ]
  },
  {
   "cell_type": "code",
   "execution_count": null,
   "id": "6d1b9405-40dd-469b-84e8-c7526e78aef2",
   "metadata": {},
   "outputs": [],
   "source": []
  }
 ],
 "metadata": {
  "kernelspec": {
   "display_name": "Python 3 (ipykernel)",
   "language": "python",
   "name": "python3"
  },
  "language_info": {
   "codemirror_mode": {
    "name": "ipython",
    "version": 3
   },
   "file_extension": ".py",
   "mimetype": "text/x-python",
   "name": "python",
   "nbconvert_exporter": "python",
   "pygments_lexer": "ipython3",
   "version": "3.11.7"
  }
 },
 "nbformat": 4,
 "nbformat_minor": 5
}
